version https://git-lfs.github.com/spec/v1
oid sha256:85d60e786510249ebc2977fd8bf5840efbd6bffbe32e22f3f9ca8d292f0aca61
size 14206
